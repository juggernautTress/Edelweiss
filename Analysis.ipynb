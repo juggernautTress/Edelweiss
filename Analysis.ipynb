{
  "nbformat": 4,
  "nbformat_minor": 0,
  "metadata": {
    "colab": {
      "name": "Analysis.ipynb",
      "version": "0.3.2",
      "provenance": []
    },
    "kernelspec": {
      "display_name": "Python 3",
      "language": "python",
      "name": "python3"
    }
  },
  "cells": [
    {
      "metadata": {
        "_uuid": "8f2839f25d086af736a60e9eeb907d3b93b6e0e5",
        "_cell_guid": "b1076dfc-b9ad-4769-8c92-a6c4dae69d19",
        "trusted": true,
        "id": "Voc9E9Qz1BZf",
        "colab_type": "code",
        "colab": {}
      },
      "cell_type": "code",
      "source": [
        "# This Python 3 environment comes with many helpful analytics libraries installed\n",
        "# It is defined by the kaggle/python docker image: https://github.com/kaggle/docker-python\n",
        "# For example, here's several helpful packages to load in \n",
        "\n",
        "# Import libraries\n",
        "from scipy import stats\n",
        "import pandas as pd \n",
        "import numpy as np\n",
        "import seaborn as sns\n",
        "import matplotlib.pyplot as plt\n",
        "sns.set_style(\"white\")\n",
        "sns.set(style=\"ticks\", color_codes=True)\n",
        "%matplotlib inline\n",
        "from sklearn.model_selection import learning_curve, validation_curve, cross_val_score\n",
        "\n",
        "# Create table for missing data analysis\n",
        "def draw_missing_data_table(df):\n",
        "    total = df.isnull().sum().sort_values(ascending=False)\n",
        "    percent = (df.isnull().sum()/df.isnull().count()).sort_values(ascending=False)\n",
        "    missing_data = pd.concat([total, percent], axis=1, keys=['Total', 'Percent'])\n",
        "    return missing_data\n",
        "\n",
        "# missing data\n",
        "def find_missing_data(df):\n",
        "    #missing data\n",
        "    total = df.isnull().sum().sort_values(ascending=False)\n",
        "    percent = (df.isnull().sum()/df.isnull().count()).sort_values(ascending=False)\n",
        "    missing_data = pd.concat([total, percent], axis=1, keys=['Total', 'Percent'])\n",
        "    if missing_data['Total'].max() > 0: print (missing_data.head(20))\n",
        "    else: print (\"No missing data.\")"
      ],
      "execution_count": 0,
      "outputs": []
    },
    {
      "metadata": {
        "_uuid": "8560ce4012672e539674110d5cacc4b8e6020409",
        "id": "gsF55wlc1BZ9",
        "colab_type": "text"
      },
      "cell_type": "markdown",
      "source": [
        "**Load Data and Explore **\n",
        "\n",
        "\n",
        "\n"
      ]
    },
    {
      "metadata": {
        "id": "d5jztCrv1Nd9",
        "colab_type": "code",
        "colab": {
          "base_uri": "https://localhost:8080/",
          "height": 63
        },
        "outputId": "594e47d4-3d3d-4ec2-f22e-1c845124afd9"
      },
      "cell_type": "code",
      "source": [
        "!pip install -q xlrd\n",
        "!git clone https://github.com/juggernautTress/EWeiss-Data.git"
      ],
      "execution_count": 3,
      "outputs": [
        {
          "output_type": "stream",
          "text": [
            "fatal: destination path 'EWeiss-Data' already exists and is not an empty directory.\n"
          ],
          "name": "stdout"
        }
      ]
    },
    {
      "metadata": {
        "trusted": true,
        "_uuid": "f4e47f83916b73107cc496a277a20a0b8e380a0c",
        "id": "XL5slyDK1BaJ",
        "colab_type": "code",
        "colab": {}
      },
      "cell_type": "code",
      "source": [
        "# Input data files are available in the \"../input/\" directory.\n",
        "bckgrnd = pd.read_excel('../input/UC1.xlsx', 'Background', index_col=None)\n",
        "flwseeds = pd.read_excel('../input/UC1.xlsx', 'Data', index_col=None)\n",
        "# bckgrnd.dropna(axis=0, how='all') #remve all row where all value is 'NaN' exists\n",
        "# Any results will be writen to the current directory are saved as output.\n",
        "flwseeds.head()"
      ],
      "execution_count": 0,
      "outputs": []
    },
    {
      "metadata": {
        "_cell_guid": "79c7e3d0-c299-4dcb-8224-4455121ee9b0",
        "_uuid": "d629ff2d2480ee46fbb7e2d37f6b5fab8052498a",
        "trusted": true,
        "id": "rfab04gx1Bag",
        "colab_type": "code",
        "colab": {}
      },
      "cell_type": "code",
      "source": [
        "flwseeds = flwseeds.drop([\"Unnamed: 0\"], axis=1)\n",
        "flwseeds.info()"
      ],
      "execution_count": 0,
      "outputs": []
    },
    {
      "metadata": {
        "_uuid": "15867c66a7543d23574482eccb28712edddfe6af",
        "id": "yvt0iekw1Bam",
        "colab_type": "text"
      },
      "cell_type": "markdown",
      "source": [
        "*Check for missing data*"
      ]
    },
    {
      "metadata": {
        "trusted": true,
        "_uuid": "f206ff114ea868edef42484168e941040f56f31a",
        "id": "A8SWfvz91Ban",
        "colab_type": "code",
        "colab": {}
      },
      "cell_type": "code",
      "source": [
        "draw_missing_data_table(flwseeds) ## None"
      ],
      "execution_count": 0,
      "outputs": []
    },
    {
      "metadata": {
        "trusted": true,
        "_uuid": "10c34f5f161b6d431cb399651d89f8c28a30fd6c",
        "id": "UaOIHsOs1Bap",
        "colab_type": "code",
        "colab": {}
      },
      "cell_type": "code",
      "source": [
        "flwseeds[\"STORE CODE\"].unique().size ## all unique store codes"
      ],
      "execution_count": 0,
      "outputs": []
    },
    {
      "metadata": {
        "_uuid": "5c01cf80ca7d7f6d3d67f44477bf289541d58eb3",
        "id": "aB8ZBQxf1Bar",
        "colab_type": "text"
      },
      "cell_type": "markdown",
      "source": [
        "*Distribution Plots*"
      ]
    },
    {
      "metadata": {
        "trusted": true,
        "_uuid": "5da94ea8481644a2f421f165cca38d02045d7a6b",
        "id": "Aqk0Lwqe1Bat",
        "colab_type": "code",
        "colab": {}
      },
      "cell_type": "code",
      "source": [
        "initStats = flwseeds.describe()\n",
        "initStats = initStats.drop(columns =[\"STORE CODE\"])\n",
        "initStats"
      ],
      "execution_count": 0,
      "outputs": []
    },
    {
      "metadata": {
        "trusted": true,
        "_uuid": "fd91dab23ca319b48ede5b8620f8940460afa979",
        "id": "dl25oWjy1Bay",
        "colab_type": "code",
        "colab": {}
      },
      "cell_type": "code",
      "source": [
        "flw_names = list(flwseeds.columns.values)[1:]\n",
        "\n",
        "initStats = pd.DataFrame(columns=[\"mean\",\"std\"])\n",
        "initStats[\"mean\"]=flwseeds.drop(columns =[\"STORE CODE\"]).mean();\n",
        "initStats[\"std\"]=flwseeds.drop(columns =[\"STORE CODE\"]).std();\n",
        "initStats[\"count\"]=flwseeds.drop(columns =[\"STORE CODE\"]).sum();\n",
        "initStats[\"Name\"]=flw_names\n",
        "# sort df by Count column\n",
        "initStats = initStats.sort_values(['mean'], ascending=False).reset_index(drop=True)\n",
        "\n",
        "f, ax = plt.subplots(figsize=(8, 18))\n",
        "sns.barplot(initStats[\"mean\"],initStats.Name,palette=\"Blues_d\")\n",
        "\n",
        "# print (\"Most uncommon seeds: \\n\",initStats.tail(20))\n",
        "initStats.tail(20)"
      ],
      "execution_count": 0,
      "outputs": []
    },
    {
      "metadata": {
        "_uuid": "8ef9532ab8da91b2655950d7e040b2b61fc791dd",
        "id": "3c3FBpgl1Ba1",
        "colab_type": "text"
      },
      "cell_type": "markdown",
      "source": [
        "Everybody orders Alyssum Y. and more than 95% order Calendula Gold, Marigold Jafri Black, Anthurium Mix, Cleome Rose, Linum Blue, Holly Hock, Sweet Pea Mix, Cereopsis, Sweet Pea Pink, Sweet Pea White and Delphinium. The rest of the flowers on the list would benefit most from sale recommendations."
      ]
    },
    {
      "metadata": {
        "_uuid": "27a971c39bcf559bb66ba6e79ffe528ef92b343e",
        "id": "_N2v7uGj1Ba2",
        "colab_type": "text"
      },
      "cell_type": "markdown",
      "source": [
        "*Correlation Matrix*"
      ]
    },
    {
      "metadata": {
        "trusted": true,
        "_uuid": "71f4af253c2179bae3ba04a39ffa2340769f1c1f",
        "id": "3bRtbAnr1Ba2",
        "colab_type": "code",
        "colab": {}
      },
      "cell_type": "code",
      "source": [
        "flw_train = flwseeds.loc[:,flw_names]\n",
        "corrmat = flw_train.corr(method='pearson')\n",
        "f, ax = plt.subplots(figsize=(18, 18))\n",
        "sns.heatmap(corrmat, square=True)#,annot=True);"
      ],
      "execution_count": 0,
      "outputs": []
    },
    {
      "metadata": {
        "_uuid": "323fab3efb80ebaf03419351a1b9e1abbfc4df40",
        "id": "qk7SYS041Ba4",
        "colab_type": "text"
      },
      "cell_type": "markdown",
      "source": [
        "1. Recommendations based on **Pearsons' R** values"
      ]
    },
    {
      "metadata": {
        "trusted": true,
        "_uuid": "a0dcae184380f24d5468b4288383d6e7a127867e",
        "id": "_KO4yukI1Ba5",
        "colab_type": "code",
        "colab": {}
      },
      "cell_type": "code",
      "source": [
        "print(initStats.loc[initStats['Name'] == \"Marigold Jafri Black\"][\"mean\"].values[0] )\n",
        "def recommend(FlowerName, min_count):\n",
        "    print(\"For flower seed ({})\".format(FlowerName))\n",
        "    print(\"- Top 10 seed recommendation based on Pearsons'R correlation - \")\n",
        "\n",
        "    target = flw_train[FlowerName]\n",
        "    similar_to_target = flw_train.corrwith(target)\n",
        "    corr_target = pd.DataFrame(similar_to_target, columns = ['PearsonR'])\n",
        "    corr_target.dropna(inplace = True)\n",
        "    corr_target = corr_target.sort_values('PearsonR', ascending = False)\n",
        "    popularity = []\n",
        "    for idx in corr_target.index.values:\n",
        "        popularity.append(initStats.loc[initStats[\"Name\"] == idx][\"mean\"].values[0] *100.)\n",
        "    corr_target['Popularity (Seed Sale %)'] = popularity\n",
        "    print(corr_target.head(10))    \n",
        "    "
      ],
      "execution_count": 0,
      "outputs": []
    },
    {
      "metadata": {
        "trusted": true,
        "_uuid": "3a968f245cc9a99102d408d81a67c6bced88dda0",
        "id": "6bCj4bXQ1Ba7",
        "colab_type": "code",
        "colab": {}
      },
      "cell_type": "code",
      "source": [
        "recommend(\"Calendula Gold\", 10) #popular seed"
      ],
      "execution_count": 0,
      "outputs": []
    },
    {
      "metadata": {
        "trusted": true,
        "_uuid": "93498ec5f9d324f31535a5bd63dc1f1081318ef7",
        "id": "OknywmtT1Ba_",
        "colab_type": "code",
        "colab": {}
      },
      "cell_type": "code",
      "source": [
        "recommend(\"Petunia Purple\", 10) # uncommon seed"
      ],
      "execution_count": 0,
      "outputs": []
    },
    {
      "metadata": {
        "_uuid": "695ce3ab9cb9a247bd877bff6e7ace09d9bb946b",
        "id": "LY64eHN21BbA",
        "colab_type": "text"
      },
      "cell_type": "markdown",
      "source": [
        "To make seed recommendations: "
      ]
    },
    {
      "metadata": {
        "_uuid": "64a9a4f192138bdc6a94c5210efd147d82668a32",
        "id": "8FO6ujpG1BbB",
        "colab_type": "text"
      },
      "cell_type": "markdown",
      "source": [
        "2. SVD\n",
        "SVD handles the problem of scalability and sparsity posed by CF successfully. However, SVD is not without flaw. The main drawback of SVD is that there is no to little explanation to the reason that we recommend an item to an user. This can be a huge problem if users are eager to know why a specific item is recommended to them."
      ]
    },
    {
      "metadata": {
        "trusted": true,
        "_uuid": "75ab88a79d14b0f9a99441cc5211771d2e4a630e",
        "id": "CJ4YBuEY1BbC",
        "colab_type": "code",
        "colab": {}
      },
      "cell_type": "code",
      "source": [
        ""
      ],
      "execution_count": 0,
      "outputs": []
    },
    {
      "metadata": {
        "_uuid": "8bb6bfad2d7f77526b37f9056c857f18fa2c30d0",
        "id": "cfhk66w81BbD",
        "colab_type": "text"
      },
      "cell_type": "markdown",
      "source": [
        "**Edelweiss wants this recommendation to be statistically correct. They also want to see if this data is meaningful enough to generate some decent recommendation or not. If Kayla says that this data is insufficient, then she needs to validate that with some statistical results. They also would want to see some stores and some seeds where they should focus primarily. Other than this analysis, if the Edelweiss CEO likes the approach, then he would want to do a pilot of a few stores. Kayla should help the CEO to selct store list along with the recommnedations.**"
      ]
    }
  ]
}